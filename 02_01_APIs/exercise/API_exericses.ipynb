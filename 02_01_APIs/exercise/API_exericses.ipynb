{
 "cells": [
  {
   "cell_type": "markdown",
   "id": "ab5a5113-7ffb-47ac-bd55-96cd35cb51d5",
   "metadata": {},
   "source": [
    "# API exercises"
   ]
  },
  {
   "cell_type": "markdown",
   "id": "bde7f1cf-ca15-42da-b13a-63f1919bcf72",
   "metadata": {},
   "source": [
    "A fast ride through many of the APIs we introduced! Answer below questions to get to know the basics of each API using the [code snippets](https://github.com/JanaLasser/SICSS-aachen-graz/blob/main/02_01_APIs/exercise/API_access_code_snippets.ipynb) we provide for each API. If you get stuck on one task, move on after trying for max 10 min.  \n",
    "\n",
    "**Note:** You don't have to work on the tasks in sequential order, as they do not depend on each other. Start with the API you are interested in using the most."
   ]
  },
  {
   "cell_type": "markdown",
   "id": "17ef1a77-7f26-48fc-8f9c-b8f07c6e6b88",
   "metadata": {},
   "source": [
    "* **Google trends**: When was the maximum for searches for \"machine learning\" in your country of residence in the last 5 years?\n",
    "* **Twitter API**: \n",
    "    * How many tweets did the account of the president of the United States post in the last 7 days? If you have academic level API access, check the number of tweets for all of 2022. Note: you can solve this exercise both with the \"search\" and the \"counts\" endpoint! \n",
    "    * When using the full-archive search, how many tweets are returned for a single request?\n",
    "    * Given Twitter's rate limits for the full-archive search: how long will it take to download a number of tweets equal to your monthly quota (10 mio tweets)?\n",
    "* **Reddit Pushshift**: Which submission in the subreddit [compsocialsci](https://www.reddit.com/r/compsocialsci/) from **2021** to now had the most comments?\n",
    "* **Telegram** \n",
    "    * Download all messages from the t.me/quote channel. \n",
    "    * How many messages are there? \n",
    "    * When was the earliest message posted? \n",
    "    * What were the quotes of the day on your last birthday?\n",
    "* **New York Times**: what is the rate limit for requests to the New York Times API?\n",
    "* **Wikipedia**: How many links are contained in the [deep learning page](https://en.wikipedia.org/wiki/Deep_learning)?\n",
    "* **Steam reviews**: retrieve all positive and negative reviews of the game [Elden Ring](https://store.steampowered.com/agecheck/app/1245620/) in German. \n",
    "    * How many games do reviewers who leave positive reviews own on average? How many for the negative reviewers?\n",
    "    * How many total hours played to people who leave positive reviews have? And how many the people who leave negative reviews?\n",
    "* **Open Street Maps**: how many dumpsters does Berlin have?\n",
    "* **CrossRef**: Get all publications associated with the search term \"Reddit\". How many are there? Which is the hightest cited one?\n",
    "* **Spotify**: Which national anthem has the higher \"danceability\", the German or the Austrian one?\n",
    "* **Pandas datareader**: Download data of the gross domestic product of Austria and Germany for the last 10 years. How do the two countries compare? Hint: use the World Bank data base for the task."
   ]
  },
  {
   "cell_type": "markdown",
   "id": "0e45ea37-cd53-4abb-88d1-4c5a7ac3e043",
   "metadata": {},
   "source": [
    "# 0. Common Libraries"
   ]
  },
  {
   "cell_type": "code",
   "execution_count": 1,
   "id": "39ed0351-7bd3-4316-802c-4c9477842eb3",
   "metadata": {},
   "outputs": [],
   "source": [
    "# general imports\n",
    "from datetime import date, datetime, timezone\n",
    "import asyncio\n",
    "import json\n",
    "import pandas as pd\n",
    "import numpy as np\n",
    "import matplotlib.pyplot as plt"
   ]
  },
  {
   "cell_type": "markdown",
   "id": "ff4c87f3-eb8a-476b-a5c9-418935be1683",
   "metadata": {},
   "source": [
    "# 1. Google Trends"
   ]
  },
  {
   "cell_type": "code",
   "execution_count": 3,
   "id": "aff5a3da-ffa0-4093-ac2a-b70f82f388d1",
   "metadata": {},
   "outputs": [],
   "source": [
    "# import python wrapper\n",
    "from pytrends.request import TrendReq"
   ]
  },
  {
   "cell_type": "code",
   "execution_count": 4,
   "id": "0ce2e27c-763d-4e54-a18c-4cf9c2129d36",
   "metadata": {},
   "outputs": [],
   "source": [
    "trend_client = TrendReq()"
   ]
  },
  {
   "cell_type": "code",
   "execution_count": 14,
   "id": "31485cf2-3ffe-43bd-9c03-6e49b8de2e88",
   "metadata": {},
   "outputs": [],
   "source": [
    "kw_list = [\"Machine Learning\", \"machinelearning\"] # list of keywords we want to get search trends for\n",
    "timeframe = \"today 5-y\"  # timeframe for which we want to request the trend\n",
    "geo = \"DE\" # geographical scope for wich we want to request the trend\n",
    "\n",
    "trend_client.build_payload(\n",
    "    kw_list, \n",
    "    timeframe=timeframe,\n",
    "    geo = 'DE'\n",
    ")"
   ]
  },
  {
   "cell_type": "code",
   "execution_count": 15,
   "id": "fd316b82-a723-4bf2-830a-58e1a094f48a",
   "metadata": {},
   "outputs": [
    {
     "data": {
      "text/html": [
       "<div>\n",
       "<style scoped>\n",
       "    .dataframe tbody tr th:only-of-type {\n",
       "        vertical-align: middle;\n",
       "    }\n",
       "\n",
       "    .dataframe tbody tr th {\n",
       "        vertical-align: top;\n",
       "    }\n",
       "\n",
       "    .dataframe thead th {\n",
       "        text-align: right;\n",
       "    }\n",
       "</style>\n",
       "<table border=\"1\" class=\"dataframe\">\n",
       "  <thead>\n",
       "    <tr style=\"text-align: right;\">\n",
       "      <th></th>\n",
       "      <th>Machine Learning</th>\n",
       "      <th>machinelearning</th>\n",
       "      <th>isPartial</th>\n",
       "    </tr>\n",
       "    <tr>\n",
       "      <th>date</th>\n",
       "      <th></th>\n",
       "      <th></th>\n",
       "      <th></th>\n",
       "    </tr>\n",
       "  </thead>\n",
       "  <tbody>\n",
       "    <tr>\n",
       "      <th>2017-07-23</th>\n",
       "      <td>52</td>\n",
       "      <td>0</td>\n",
       "      <td>False</td>\n",
       "    </tr>\n",
       "    <tr>\n",
       "      <th>2017-07-30</th>\n",
       "      <td>52</td>\n",
       "      <td>1</td>\n",
       "      <td>False</td>\n",
       "    </tr>\n",
       "  </tbody>\n",
       "</table>\n",
       "</div>"
      ],
      "text/plain": [
       "            Machine Learning  machinelearning  isPartial\n",
       "date                                                    \n",
       "2017-07-23                52                0      False\n",
       "2017-07-30                52                1      False"
      ]
     },
     "execution_count": 15,
     "metadata": {},
     "output_type": "execute_result"
    }
   ],
   "source": [
    "df = trend_client.interest_over_time()\n",
    "df.head(2)"
   ]
  },
  {
   "cell_type": "code",
   "execution_count": 19,
   "id": "47628b89-46b3-43e7-9c81-952f4ad46c1d",
   "metadata": {},
   "outputs": [
    {
     "data": {
      "image/png": "[encoded data removed]",
      "text/plain": [
       "<Figure size 432x288 with 1 Axes>"
      ]
     },
     "metadata": {
      "needs_background": "light"
     },
     "output_type": "display_data"
    }
   ],
   "source": [
    "# visualize the result\n",
    "fig, ax = plt.subplots()\n",
    "kw = kw_list[0]\n",
    "ax.plot(df.index, df[kw])\n",
    "ax.set_ylabel(\"Scaled search volume\")\n",
    "ax.set_title(f'Google searches for \"{kw}\" in {geo}');"
   ]
  },
  {
   "cell_type": "markdown",
   "id": "911809a6-3e2c-4a46-b8bb-02824fff8699",
   "metadata": {},
   "source": [
    "# 2. Twitter API"
   ]
  },
  {
   "cell_type": "code",
   "execution_count": 31,
   "id": "38ade954-7977-466f-a215-01099da2f650",
   "metadata": {},
   "outputs": [],
   "source": [
    "from twarc import Twarc2\n",
    "bearer_token = \"AAAAAAAAAAAAAAAAAAAAADM%2FegEAAAAA7nf0wAQhPrwk5no22dSLCagIztY%3Dnweg5YjswUpOIbG8j0xxtMZVlKJCWEB491knYQO15aExqQ6Iw7\" # replace the XXX with your bearer token\n",
    "twarc_client = Twarc2(bearer_token=bearer_token)"
   ]
  },
  {
   "cell_type": "code",
   "execution_count": 32,
   "id": "506ec54c-ed50-4874-9a86-6addf7adb9ab",
   "metadata": {},
   "outputs": [
    {
     "name": "stderr",
     "output_type": "stream",
     "text": [
      "Unexpected HTTP response: <Response [403]>\n"
     ]
    },
    {
     "ename": "HTTPError",
     "evalue": "403 Client Error: Forbidden for url: https://api.twitter.com/2/tweets/search/all?expansions=author_id%2Cin_reply_to_user_id%2Creferenced_tweets.id%2Creferenced_tweets.id.author_id%2Centities.mentions.username%2Cattachments.poll_ids%2Cattachments.media_keys%2Cgeo.place_id&tweet.fields=attachments%2Cauthor_id%2Ccontext_annotations%2Cconversation_id%2Ccreated_at%2Centities%2Cgeo%2Cid%2Cin_reply_to_user_id%2Clang%2Cpublic_metrics%2Ctext%2Cpossibly_sensitive%2Creferenced_tweets%2Creply_settings%2Csource%2Cwithheld&user.fields=created_at%2Cdescription%2Centities%2Cid%2Clocation%2Cname%2Cpinned_tweet_id%2Cprofile_image_url%2Cprotected%2Cpublic_metrics%2Curl%2Cusername%2Cverified%2Cwithheld&media.fields=alt_text%2Cduration_ms%2Cheight%2Cmedia_key%2Cpreview_image_url%2Ctype%2Curl%2Cwidth%2Cpublic_metrics&poll.fields=duration_minutes%2Cend_datetime%2Cid%2Coptions%2Cvoting_status&place.fields=contained_within%2Ccountry%2Ccountry_code%2Cfull_name%2Cgeo%2Cid%2Cname%2Cplace_type&start_time=2022-07-01T00%3A00%3A00%2B00%3A00&end_time=2022-07-07T00%3A00%3A00%2B00%3A00&query=from%3Ajoebiden&max_results=100",
     "output_type": "error",
     "traceback": [
      "\u001b[0;31m---------------------------------------------------------------------------\u001b[0m",
      "\u001b[0;31mHTTPError\u001b[0m                                 Traceback (most recent call last)",
      "\u001b[0;32m/var/folders/r7/b09cv88918vdq_r2rlflb2_c0000gn/T/ipykernel_1468/849067244.py\u001b[0m in \u001b[0;36m<module>\u001b[0;34m\u001b[0m\n\u001b[1;32m     13\u001b[0m \u001b[0;31m# If you have \"academic\" access, you can use the search_all() function as in the\u001b[0m\u001b[0;34m\u001b[0m\u001b[0;34m\u001b[0m\u001b[0m\n\u001b[1;32m     14\u001b[0m \u001b[0;31m# example to access historic tweets back to march 2010 when Twitter was founded.\u001b[0m\u001b[0;34m\u001b[0m\u001b[0;34m\u001b[0m\u001b[0m\n\u001b[0;32m---> 15\u001b[0;31m for tweet in twarc_client.search_all(\n\u001b[0m\u001b[1;32m     16\u001b[0m         \u001b[0mquery\u001b[0m\u001b[0;34m,\u001b[0m\u001b[0;34m\u001b[0m\u001b[0;34m\u001b[0m\u001b[0m\n\u001b[1;32m     17\u001b[0m         \u001b[0mstart_time\u001b[0m\u001b[0;34m=\u001b[0m\u001b[0mstart\u001b[0m\u001b[0;34m,\u001b[0m\u001b[0;34m\u001b[0m\u001b[0;34m\u001b[0m\u001b[0m\n",
      "\u001b[0;32m~/opt/anaconda3/lib/python3.9/site-packages/twarc/client2.py\u001b[0m in \u001b[0;36m_search\u001b[0;34m(self, url, query, since_id, until_id, start_time, end_time, max_results, expansions, tweet_fields, user_fields, media_fields, poll_fields, place_fields, sort_order, next_token, granularity, sleep_between)\u001b[0m\n\u001b[1;32m    309\u001b[0m \u001b[0;34m\u001b[0m\u001b[0m\n\u001b[1;32m    310\u001b[0m         \u001b[0;32melse\u001b[0m\u001b[0;34m:\u001b[0m\u001b[0;34m\u001b[0m\u001b[0;34m\u001b[0m\u001b[0m\n\u001b[0;32m--> 311\u001b[0;31m             \u001b[0;32mfor\u001b[0m \u001b[0mresponse\u001b[0m \u001b[0;32min\u001b[0m \u001b[0mself\u001b[0m\u001b[0;34m.\u001b[0m\u001b[0mget_paginated\u001b[0m\u001b[0;34m(\u001b[0m\u001b[0murl\u001b[0m\u001b[0;34m,\u001b[0m \u001b[0mparams\u001b[0m\u001b[0;34m=\u001b[0m\u001b[0mparams\u001b[0m\u001b[0;34m)\u001b[0m\u001b[0;34m:\u001b[0m\u001b[0;34m\u001b[0m\u001b[0;34m\u001b[0m\u001b[0m\n\u001b[0m\u001b[1;32m    312\u001b[0m \u001b[0;34m\u001b[0m\u001b[0m\n\u001b[1;32m    313\u001b[0m                 \u001b[0;31m# Note that we're ensuring the appropriate amount of sleep is\u001b[0m\u001b[0;34m\u001b[0m\u001b[0;34m\u001b[0m\u001b[0m\n",
      "\u001b[0;32m~/opt/anaconda3/lib/python3.9/site-packages/twarc/client2.py\u001b[0m in \u001b[0;36mget_paginated\u001b[0;34m(self, *args, **kwargs)\u001b[0m\n\u001b[1;32m   1613\u001b[0m         \"\"\"\n\u001b[1;32m   1614\u001b[0m \u001b[0;34m\u001b[0m\u001b[0m\n\u001b[0;32m-> 1615\u001b[0;31m         \u001b[0mresp\u001b[0m \u001b[0;34m=\u001b[0m \u001b[0mself\u001b[0m\u001b[0;34m.\u001b[0m\u001b[0mget\u001b[0m\u001b[0;34m(\u001b[0m\u001b[0;34m*\u001b[0m\u001b[0margs\u001b[0m\u001b[0;34m,\u001b[0m \u001b[0;34m**\u001b[0m\u001b[0mkwargs\u001b[0m\u001b[0;34m)\u001b[0m\u001b[0;34m\u001b[0m\u001b[0;34m\u001b[0m\u001b[0m\n\u001b[0m\u001b[1;32m   1616\u001b[0m         \u001b[0mpage\u001b[0m \u001b[0;34m=\u001b[0m \u001b[0mresp\u001b[0m\u001b[0;34m.\u001b[0m\u001b[0mjson\u001b[0m\u001b[0;34m(\u001b[0m\u001b[0;34m)\u001b[0m\u001b[0;34m\u001b[0m\u001b[0;34m\u001b[0m\u001b[0m\n\u001b[1;32m   1617\u001b[0m \u001b[0;34m\u001b[0m\u001b[0m\n",
      "\u001b[0;32m~/opt/anaconda3/lib/python3.9/site-packages/twarc/decorators2.py\u001b[0m in \u001b[0;36mnew_f\u001b[0;34m(self, *args, **kwargs)\u001b[0m\n\u001b[1;32m    136\u001b[0m                 \u001b[0;31m# don't catch any HTTP errors since those are handled separately\u001b[0m\u001b[0;34m\u001b[0m\u001b[0;34m\u001b[0m\u001b[0m\n\u001b[1;32m    137\u001b[0m                 \u001b[0;32mif\u001b[0m \u001b[0misinstance\u001b[0m\u001b[0;34m(\u001b[0m\u001b[0me\u001b[0m\u001b[0;34m,\u001b[0m \u001b[0mrequests\u001b[0m\u001b[0;34m.\u001b[0m\u001b[0mexceptions\u001b[0m\u001b[0;34m.\u001b[0m\u001b[0mHTTPError\u001b[0m\u001b[0;34m)\u001b[0m\u001b[0;34m:\u001b[0m\u001b[0;34m\u001b[0m\u001b[0;34m\u001b[0m\u001b[0m\n\u001b[0;32m--> 138\u001b[0;31m                     \u001b[0;32mraise\u001b[0m \u001b[0me\u001b[0m\u001b[0;34m\u001b[0m\u001b[0;34m\u001b[0m\u001b[0m\n\u001b[0m\u001b[1;32m    139\u001b[0m \u001b[0;34m\u001b[0m\u001b[0m\n\u001b[1;32m    140\u001b[0m                 \u001b[0merrors\u001b[0m \u001b[0;34m+=\u001b[0m \u001b[0;36m1\u001b[0m\u001b[0;34m\u001b[0m\u001b[0;34m\u001b[0m\u001b[0m\n",
      "\u001b[0;32m~/opt/anaconda3/lib/python3.9/site-packages/twarc/decorators2.py\u001b[0m in \u001b[0;36mnew_f\u001b[0;34m(self, *args, **kwargs)\u001b[0m\n\u001b[1;32m    129\u001b[0m         \u001b[0;32mwhile\u001b[0m \u001b[0merrors\u001b[0m \u001b[0;34m<\u001b[0m \u001b[0mtries\u001b[0m\u001b[0;34m:\u001b[0m\u001b[0;34m\u001b[0m\u001b[0;34m\u001b[0m\u001b[0m\n\u001b[1;32m    130\u001b[0m             \u001b[0;32mtry\u001b[0m\u001b[0;34m:\u001b[0m\u001b[0;34m\u001b[0m\u001b[0;34m\u001b[0m\u001b[0m\n\u001b[0;32m--> 131\u001b[0;31m                 \u001b[0mresp\u001b[0m \u001b[0;34m=\u001b[0m \u001b[0mf\u001b[0m\u001b[0;34m(\u001b[0m\u001b[0mself\u001b[0m\u001b[0;34m,\u001b[0m \u001b[0;34m*\u001b[0m\u001b[0margs\u001b[0m\u001b[0;34m,\u001b[0m \u001b[0;34m**\u001b[0m\u001b[0mkwargs\u001b[0m\u001b[0;34m)\u001b[0m\u001b[0;34m\u001b[0m\u001b[0;34m\u001b[0m\u001b[0m\n\u001b[0m\u001b[1;32m    132\u001b[0m                 \u001b[0merrors\u001b[0m \u001b[0;34m=\u001b[0m \u001b[0;36m0\u001b[0m\u001b[0;34m\u001b[0m\u001b[0;34m\u001b[0m\u001b[0m\n\u001b[1;32m    133\u001b[0m                 \u001b[0;32mreturn\u001b[0m \u001b[0mresp\u001b[0m\u001b[0;34m\u001b[0m\u001b[0;34m\u001b[0m\u001b[0m\n",
      "\u001b[0;32m~/opt/anaconda3/lib/python3.9/site-packages/twarc/decorators2.py\u001b[0m in \u001b[0;36mnew_f\u001b[0;34m(*args, **kwargs)\u001b[0m\n\u001b[1;32m     99\u001b[0m             \u001b[0;32melse\u001b[0m\u001b[0;34m:\u001b[0m\u001b[0;34m\u001b[0m\u001b[0;34m\u001b[0m\u001b[0m\n\u001b[1;32m    100\u001b[0m                 \u001b[0mlog\u001b[0m\u001b[0;34m.\u001b[0m\u001b[0merror\u001b[0m\u001b[0;34m(\u001b[0m\u001b[0;34m\"Unexpected HTTP response: %s\"\u001b[0m\u001b[0;34m,\u001b[0m \u001b[0mresp\u001b[0m\u001b[0;34m)\u001b[0m\u001b[0;34m\u001b[0m\u001b[0;34m\u001b[0m\u001b[0m\n\u001b[0;32m--> 101\u001b[0;31m                 \u001b[0mresp\u001b[0m\u001b[0;34m.\u001b[0m\u001b[0mraise_for_status\u001b[0m\u001b[0;34m(\u001b[0m\u001b[0;34m)\u001b[0m\u001b[0;34m\u001b[0m\u001b[0;34m\u001b[0m\u001b[0m\n\u001b[0m\u001b[1;32m    102\u001b[0m \u001b[0;34m\u001b[0m\u001b[0m\n\u001b[1;32m    103\u001b[0m     \u001b[0;32mreturn\u001b[0m \u001b[0mnew_f\u001b[0m\u001b[0;34m\u001b[0m\u001b[0;34m\u001b[0m\u001b[0m\n",
      "\u001b[0;32m~/opt/anaconda3/lib/python3.9/site-packages/requests/models.py\u001b[0m in \u001b[0;36mraise_for_status\u001b[0;34m(self)\u001b[0m\n\u001b[1;32m    958\u001b[0m \u001b[0;34m\u001b[0m\u001b[0m\n\u001b[1;32m    959\u001b[0m         \u001b[0;32mif\u001b[0m \u001b[0mhttp_error_msg\u001b[0m\u001b[0;34m:\u001b[0m\u001b[0;34m\u001b[0m\u001b[0;34m\u001b[0m\u001b[0m\n\u001b[0;32m--> 960\u001b[0;31m             \u001b[0;32mraise\u001b[0m \u001b[0mHTTPError\u001b[0m\u001b[0;34m(\u001b[0m\u001b[0mhttp_error_msg\u001b[0m\u001b[0;34m,\u001b[0m \u001b[0mresponse\u001b[0m\u001b[0;34m=\u001b[0m\u001b[0mself\u001b[0m\u001b[0;34m)\u001b[0m\u001b[0;34m\u001b[0m\u001b[0;34m\u001b[0m\u001b[0m\n\u001b[0m\u001b[1;32m    961\u001b[0m \u001b[0;34m\u001b[0m\u001b[0m\n\u001b[1;32m    962\u001b[0m     \u001b[0;32mdef\u001b[0m \u001b[0mclose\u001b[0m\u001b[0;34m(\u001b[0m\u001b[0mself\u001b[0m\u001b[0;34m)\u001b[0m\u001b[0;34m:\u001b[0m\u001b[0;34m\u001b[0m\u001b[0;34m\u001b[0m\u001b[0m\n",
      "\u001b[0;31mHTTPError\u001b[0m: 403 Client Error: Forbidden for url: https://api.twitter.com/2/tweets/search/all?expansions=author_id%2Cin_reply_to_user_id%2Creferenced_tweets.id%2Creferenced_tweets.id.author_id%2Centities.mentions.username%2Cattachments.poll_ids%2Cattachments.media_keys%2Cgeo.place_id&tweet.fields=attachments%2Cauthor_id%2Ccontext_annotations%2Cconversation_id%2Ccreated_at%2Centities%2Cgeo%2Cid%2Cin_reply_to_user_id%2Clang%2Cpublic_metrics%2Ctext%2Cpossibly_sensitive%2Creferenced_tweets%2Creply_settings%2Csource%2Cwithheld&user.fields=created_at%2Cdescription%2Centities%2Cid%2Clocation%2Cname%2Cpinned_tweet_id%2Cprofile_image_url%2Cprotected%2Cpublic_metrics%2Curl%2Cusername%2Cverified%2Cwithheld&media.fields=alt_text%2Cduration_ms%2Cheight%2Cmedia_key%2Cpreview_image_url%2Ctype%2Curl%2Cwidth%2Cpublic_metrics&poll.fields=duration_minutes%2Cend_datetime%2Cid%2Coptions%2Cvoting_status&place.fields=contained_within%2Ccountry%2Ccountry_code%2Cfull_name%2Cgeo%2Cid%2Cname%2Cplace_type&start_time=2022-07-01T00%3A00%3A00%2B00%3A00&end_time=2022-07-07T00%3A00%3A00%2B00%3A00&query=from%3Ajoebiden&max_results=100"
     ]
    }
   ],
   "source": [
    "# empty list to store the search results\n",
    "tweets = [] \n",
    "\n",
    "# tweets we look for should contain the following search string\n",
    "query = 'from:joebiden'\n",
    "\n",
    "# start and end time of the query\n",
    "start = datetime(2022, 7, 1, 0, 0, 0, 0, tzinfo = timezone.utc)\n",
    "end = datetime(2022, 7, 7, 0, 0, 0, 0, tzinfo   = timezone.utc)\n",
    "\n",
    "# Note: if you only have \"essential\" or \"elevated\" API access, you have to use\n",
    "# the function search_recent() and can only access tweets from the last 7 days.\n",
    "# If you have \"academic\" access, you can use the search_all() function as in the\n",
    "# example to access historic tweets back to march 2010 when Twitter was founded.\n",
    "for tweet in twarc_client.search_all(\n",
    "        query,\n",
    "        start_time=start,\n",
    "        end_time=end):\n",
    "    tweets.append(tweet)"
   ]
  },
  {
   "cell_type": "code",
   "execution_count": 27,
   "id": "45e498e7-3461-4691-8751-5b5d367fb036",
   "metadata": {},
   "outputs": [],
   "source": [
    "#tweets"
   ]
  },
  {
   "cell_type": "code",
   "execution_count": null,
   "id": "64cef24c-2f01-476b-9f45-2e3ebe13be61",
   "metadata": {},
   "outputs": [],
   "source": []
  }
 ],
 "metadata": {
  "kernelspec": {
   "display_name": "Python 3 (ipykernel)",
   "language": "python",
   "name": "python3"
  },
  "language_info": {
   "codemirror_mode": {
    "name": "ipython",
    "version": 3
   },
   "file_extension": ".py",
   "mimetype": "text/x-python",
   "name": "python",
   "nbconvert_exporter": "python",
   "pygments_lexer": "ipython3",
   "version": "3.9.7"
  }
 },
 "nbformat": 4,
 "nbformat_minor": 5
}
